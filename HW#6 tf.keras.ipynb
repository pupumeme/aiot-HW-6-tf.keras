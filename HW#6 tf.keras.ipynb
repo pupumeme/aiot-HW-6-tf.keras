{
 "cells": [
  {
   "cell_type": "markdown",
   "metadata": {},
   "source": [
    "程式碼:\n",
    "https://www.finlab.tw/%E7%94%A8%E6%B7%B1%E5%BA%A6%E5%AD%B8%E7%BF%92%E5%B9%AB%E4%BD%A0%E8%A7%A3%E6%9E%90k%E7%B7%9A%E5%9C%96%EF%BC%81/"
   ]
  },
  {
   "cell_type": "markdown",
   "metadata": {},
   "source": [
    "# Load Data"
   ]
  },
  {
   "cell_type": "code",
   "execution_count": 1,
   "metadata": {},
   "outputs": [],
   "source": [
    "from finlab.data import Data\n",
    "\n",
    "data = Data()\n",
    "\n",
    "sid = \"2330\"\n",
    "amount = 3000\n",
    "open_ = data.get(\"開盤價\",amount)[sid]\n",
    "low = data.get(\"開盤價\",amount)[sid]\n",
    "high = data.get(\"最高價\",amount)[sid]\n",
    "volume = data.get(\"成交股數\",amount)[sid]\n",
    "close = data.get(\"最低價\",amount)[sid]"
   ]
  },
  {
   "cell_type": "code",
   "execution_count": 2,
   "metadata": {},
   "outputs": [
    {
     "data": {
      "text/plain": [
       "date\n",
       "2009-03-13     49.0\n",
       "2009-03-16     50.0\n",
       "2009-03-17     50.0\n",
       "2009-03-18     50.2\n",
       "2009-03-19     50.5\n",
       "              ...  \n",
       "2021-05-07    594.0\n",
       "2021-05-10    596.0\n",
       "2021-05-11    579.0\n",
       "2021-05-12    567.0\n",
       "2021-05-13    547.0\n",
       "Name: 2330, Length: 3000, dtype: float64"
      ]
     },
     "execution_count": 2,
     "metadata": {},
     "output_type": "execute_result"
    }
   ],
   "source": [
    "open_"
   ]
  },
  {
   "cell_type": "code",
   "execution_count": 3,
   "metadata": {},
   "outputs": [],
   "source": [
    "import pandas as pd\n",
    "\n",
    "foxconndf = pd.DataFrame({\"open\": open_, \"low\":low[:2000], \"high\": high[:2000], \"volume\":volume[:2000], \"close\": close[:2000]})\n",
    "foxconndf.dropna(how='any',inplace=True)"
   ]
  },
  {
   "cell_type": "code",
   "execution_count": 4,
   "metadata": {},
   "outputs": [
    {
     "data": {
      "text/html": [
       "<div>\n",
       "<style scoped>\n",
       "    .dataframe tbody tr th:only-of-type {\n",
       "        vertical-align: middle;\n",
       "    }\n",
       "\n",
       "    .dataframe tbody tr th {\n",
       "        vertical-align: top;\n",
       "    }\n",
       "\n",
       "    .dataframe thead th {\n",
       "        text-align: right;\n",
       "    }\n",
       "</style>\n",
       "<table border=\"1\" class=\"dataframe\">\n",
       "  <thead>\n",
       "    <tr style=\"text-align: right;\">\n",
       "      <th></th>\n",
       "      <th>open</th>\n",
       "      <th>low</th>\n",
       "      <th>high</th>\n",
       "      <th>volume</th>\n",
       "      <th>close</th>\n",
       "    </tr>\n",
       "    <tr>\n",
       "      <th>date</th>\n",
       "      <th></th>\n",
       "      <th></th>\n",
       "      <th></th>\n",
       "      <th></th>\n",
       "      <th></th>\n",
       "    </tr>\n",
       "  </thead>\n",
       "  <tbody>\n",
       "    <tr>\n",
       "      <th>2009-03-13</th>\n",
       "      <td>49.0</td>\n",
       "      <td>49.0</td>\n",
       "      <td>50.0</td>\n",
       "      <td>114489599.0</td>\n",
       "      <td>48.80</td>\n",
       "    </tr>\n",
       "    <tr>\n",
       "      <th>2009-03-16</th>\n",
       "      <td>50.0</td>\n",
       "      <td>50.0</td>\n",
       "      <td>50.1</td>\n",
       "      <td>74164352.0</td>\n",
       "      <td>49.85</td>\n",
       "    </tr>\n",
       "    <tr>\n",
       "      <th>2009-03-17</th>\n",
       "      <td>50.0</td>\n",
       "      <td>50.0</td>\n",
       "      <td>50.2</td>\n",
       "      <td>59583711.0</td>\n",
       "      <td>49.65</td>\n",
       "    </tr>\n",
       "    <tr>\n",
       "      <th>2009-03-18</th>\n",
       "      <td>50.2</td>\n",
       "      <td>50.2</td>\n",
       "      <td>50.5</td>\n",
       "      <td>80525987.0</td>\n",
       "      <td>49.75</td>\n",
       "    </tr>\n",
       "    <tr>\n",
       "      <th>2009-03-19</th>\n",
       "      <td>50.5</td>\n",
       "      <td>50.5</td>\n",
       "      <td>50.6</td>\n",
       "      <td>51242298.0</td>\n",
       "      <td>49.10</td>\n",
       "    </tr>\n",
       "  </tbody>\n",
       "</table>\n",
       "</div>"
      ],
      "text/plain": [
       "            open   low  high       volume  close\n",
       "date                                            \n",
       "2009-03-13  49.0  49.0  50.0  114489599.0  48.80\n",
       "2009-03-16  50.0  50.0  50.1   74164352.0  49.85\n",
       "2009-03-17  50.0  50.0  50.2   59583711.0  49.65\n",
       "2009-03-18  50.2  50.2  50.5   80525987.0  49.75\n",
       "2009-03-19  50.5  50.5  50.6   51242298.0  49.10"
      ]
     },
     "execution_count": 4,
     "metadata": {},
     "output_type": "execute_result"
    }
   ],
   "source": [
    "foxconndf.head()"
   ]
  },
  {
   "cell_type": "markdown",
   "metadata": {},
   "source": [
    "# 最小最大零一正規化"
   ]
  },
  {
   "cell_type": "code",
   "execution_count": 5,
   "metadata": {},
   "outputs": [],
   "source": [
    "from sklearn import preprocessing\n",
    "\n",
    "def normalize(df):\n",
    "    newdf= df.copy()\n",
    "    min_max_scaler = preprocessing.MinMaxScaler()\n",
    "    \n",
    "    newdf['open'] = min_max_scaler.fit_transform(df.open.values.reshape(-1,1))\n",
    "    newdf['low'] = min_max_scaler.fit_transform(df.low.values.reshape(-1,1))\n",
    "    newdf['high'] = min_max_scaler.fit_transform(df.high.values.reshape(-1,1))\n",
    "    newdf['volume'] = min_max_scaler.fit_transform(df.volume.values.reshape(-1,1))\n",
    "    newdf['close'] = min_max_scaler.fit_transform(df.close.values.reshape(-1,1))\n",
    "    \n",
    "    return newdf\n",
    "\n",
    "foxconndf_norm= normalize(foxconndf)"
   ]
  },
  {
   "cell_type": "code",
   "execution_count": 6,
   "metadata": {},
   "outputs": [
    {
     "data": {
      "text/html": [
       "<div>\n",
       "<style scoped>\n",
       "    .dataframe tbody tr th:only-of-type {\n",
       "        vertical-align: middle;\n",
       "    }\n",
       "\n",
       "    .dataframe tbody tr th {\n",
       "        vertical-align: top;\n",
       "    }\n",
       "\n",
       "    .dataframe thead th {\n",
       "        text-align: right;\n",
       "    }\n",
       "</style>\n",
       "<table border=\"1\" class=\"dataframe\">\n",
       "  <thead>\n",
       "    <tr style=\"text-align: right;\">\n",
       "      <th></th>\n",
       "      <th>open</th>\n",
       "      <th>low</th>\n",
       "      <th>high</th>\n",
       "      <th>volume</th>\n",
       "      <th>close</th>\n",
       "    </tr>\n",
       "    <tr>\n",
       "      <th>date</th>\n",
       "      <th></th>\n",
       "      <th></th>\n",
       "      <th></th>\n",
       "      <th></th>\n",
       "      <th></th>\n",
       "    </tr>\n",
       "  </thead>\n",
       "  <tbody>\n",
       "    <tr>\n",
       "      <th>2009-03-13</th>\n",
       "      <td>0.004093</td>\n",
       "      <td>0.004093</td>\n",
       "      <td>0.002065</td>\n",
       "      <td>0.571678</td>\n",
       "      <td>0.007597</td>\n",
       "    </tr>\n",
       "    <tr>\n",
       "      <th>2009-03-16</th>\n",
       "      <td>0.010914</td>\n",
       "      <td>0.010914</td>\n",
       "      <td>0.002753</td>\n",
       "      <td>0.365587</td>\n",
       "      <td>0.014848</td>\n",
       "    </tr>\n",
       "    <tr>\n",
       "      <th>2009-03-17</th>\n",
       "      <td>0.010914</td>\n",
       "      <td>0.010914</td>\n",
       "      <td>0.003441</td>\n",
       "      <td>0.291069</td>\n",
       "      <td>0.013467</td>\n",
       "    </tr>\n",
       "    <tr>\n",
       "      <th>2009-03-18</th>\n",
       "      <td>0.012278</td>\n",
       "      <td>0.012278</td>\n",
       "      <td>0.005506</td>\n",
       "      <td>0.398099</td>\n",
       "      <td>0.014157</td>\n",
       "    </tr>\n",
       "    <tr>\n",
       "      <th>2009-03-19</th>\n",
       "      <td>0.014325</td>\n",
       "      <td>0.014325</td>\n",
       "      <td>0.006194</td>\n",
       "      <td>0.248438</td>\n",
       "      <td>0.009669</td>\n",
       "    </tr>\n",
       "  </tbody>\n",
       "</table>\n",
       "</div>"
      ],
      "text/plain": [
       "                open       low      high    volume     close\n",
       "date                                                        \n",
       "2009-03-13  0.004093  0.004093  0.002065  0.571678  0.007597\n",
       "2009-03-16  0.010914  0.010914  0.002753  0.365587  0.014848\n",
       "2009-03-17  0.010914  0.010914  0.003441  0.291069  0.013467\n",
       "2009-03-18  0.012278  0.012278  0.005506  0.398099  0.014157\n",
       "2009-03-19  0.014325  0.014325  0.006194  0.248438  0.009669"
      ]
     },
     "execution_count": 6,
     "metadata": {},
     "output_type": "execute_result"
    }
   ],
   "source": [
    "foxconndf_norm.head()"
   ]
  },
  {
   "cell_type": "markdown",
   "metadata": {},
   "source": [
    "# 資料編輯"
   ]
  },
  {
   "cell_type": "code",
   "execution_count": 7,
   "metadata": {},
   "outputs": [],
   "source": [
    "import numpy as np\n",
    "\n",
    "def data_helper(df, time_frame):\n",
    "    \n",
    "    # 資料維度: 開盤價、收盤價、最高價、最低價、成交量, 5維\n",
    "    number_features = len(df.columns)\n",
    "\n",
    "    # 將dataframe 轉成 numpy array\n",
    "    datavalue = df.values\n",
    "\n",
    "    result = []\n",
    "    # 若想要觀察的 time_frame 為20天, 需要多加一天做為驗證答案 -> 取21天(利用前20天預測地21天的收盤價)\n",
    "    for index in range( len(datavalue) - (time_frame+1) ): # 從 datavalue 的第0個跑到倒數第 time_frame+1 個\n",
    "        result.append(datavalue[index: index + (time_frame+1) ]) # 逐筆取出 time_frame+1 個K棒數值做為一筆 instance\n",
    "    \n",
    "    result = np.array(result)\n",
    "    number_train = round(0.9 * result.shape[0]) # 取 result 的前90% instance做為訓練資料\n",
    "    \n",
    "    x_train = result[:int(number_train), :-1] # 訓練資料中, 只取每一個 time_frame 中除了最後一筆的所有資料做為feature\n",
    "    y_train = result[:int(number_train), -1][:,-1] # 訓練資料中, 取每一個 time_frame 中最後一筆資料的最後一個數值(收盤價)做為答案\n",
    "    \n",
    "    # 測試資料\n",
    "    x_test = result[int(number_train):, :-1]\n",
    "    y_test = result[int(number_train):, -1][:,-1]\n",
    "    \n",
    "    # 將資料組成變好看一點\n",
    "    x_train = np.reshape(x_train, (x_train.shape[0], x_train.shape[1], number_features))\n",
    "    x_test = np.reshape(x_test, (x_test.shape[0], x_test.shape[1], number_features))  \n",
    "\n",
    "    return [x_train, y_train, x_test, y_test]\n",
    "\n",
    "# 以20天為一區間進行股價預測\n",
    "X_train, y_train, X_test, y_test = data_helper(foxconndf_norm, 20)"
   ]
  },
  {
   "cell_type": "markdown",
   "metadata": {},
   "source": [
    "# Keras 模型建立"
   ]
  },
  {
   "cell_type": "code",
   "execution_count": 16,
   "metadata": {},
   "outputs": [],
   "source": [
    "from keras.models import Sequential\n",
    "from keras.layers.core import Dense, Dropout, Activation\n",
    "from keras.layers.recurrent import LSTM\n",
    "import keras\n",
    "\n",
    "def build_model(input_length, input_dim):\n",
    "    d = 0.1\n",
    "    model = Sequential()\n",
    "\n",
    "    model.add(LSTM(256, input_shape=(input_length, input_dim), return_sequences=True))\n",
    "    model.add(Dropout(d))\n",
    "\n",
    "    model.add(LSTM(256, input_shape=(input_length, input_dim), return_sequences=False))\n",
    "    model.add(Dropout(d))\n",
    "\n",
    "    model.add(Dense(16,kernel_initializer=\"uniform\",activation='relu'))\n",
    "    model.add(Dense(1,kernel_initializer=\"uniform\",activation='linear'))\n",
    "\n",
    "    model.compile(loss='mse',optimizer='adam', metrics=['accuracy'])\n",
    "\n",
    "    return model\n",
    "\n",
    "# 20天、5維\n",
    "model = build_model( 20, 5 )"
   ]
  },
  {
   "cell_type": "markdown",
   "metadata": {},
   "source": [
    "# LSTM 模型訓練"
   ]
  },
  {
   "cell_type": "code",
   "execution_count": 17,
   "metadata": {},
   "outputs": [
    {
     "name": "stdout",
     "output_type": "stream",
     "text": [
      "Epoch 1/30\n",
      "81/81 [==============================] - 30s 248ms/step - loss: 0.0381 - accuracy: 0.0000e+00 - val_loss: 0.0025 - val_accuracy: 0.0000e+00\n",
      "Epoch 2/30\n",
      "81/81 [==============================] - 18s 228ms/step - loss: 9.1305e-04 - accuracy: 0.0000e+00 - val_loss: 0.0017 - val_accuracy: 0.0000e+00\n",
      "Epoch 3/30\n",
      "81/81 [==============================] - 16s 203ms/step - loss: 6.9009e-04 - accuracy: 0.0000e+00 - val_loss: 0.0016 - val_accuracy: 0.0000e+00\n",
      "Epoch 4/30\n",
      "81/81 [==============================] - 19s 239ms/step - loss: 8.8075e-04 - accuracy: 0.0000e+00 - val_loss: 0.0011 - val_accuracy: 0.0000e+00\n",
      "Epoch 5/30\n",
      "81/81 [==============================] - 22s 268ms/step - loss: 5.0071e-04 - accuracy: 0.0000e+00 - val_loss: 0.0017 - val_accuracy: 0.0000e+00\n",
      "Epoch 6/30\n",
      "81/81 [==============================] - 24s 299ms/step - loss: 6.1029e-04 - accuracy: 0.0000e+00 - val_loss: 0.0013 - val_accuracy: 0.0000e+00\n",
      "Epoch 7/30\n",
      "81/81 [==============================] - 19s 238ms/step - loss: 5.3181e-04 - accuracy: 0.0000e+00 - val_loss: 0.0012 - val_accuracy: 0.0000e+00\n",
      "Epoch 8/30\n",
      "81/81 [==============================] - 22s 270ms/step - loss: 5.5426e-04 - accuracy: 0.0000e+00 - val_loss: 0.0014 - val_accuracy: 0.0000e+00\n",
      "Epoch 9/30\n",
      "81/81 [==============================] - 23s 282ms/step - loss: 6.3886e-04 - accuracy: 0.0000e+00 - val_loss: 8.9074e-04 - val_accuracy: 0.0000e+00\n",
      "Epoch 10/30\n",
      "81/81 [==============================] - 25s 306ms/step - loss: 7.4668e-04 - accuracy: 0.0000e+00 - val_loss: 8.0989e-04 - val_accuracy: 0.0000e+00\n",
      "Epoch 11/30\n",
      "81/81 [==============================] - 24s 297ms/step - loss: 5.0040e-04 - accuracy: 0.0000e+00 - val_loss: 6.9841e-04 - val_accuracy: 0.0000e+00\n",
      "Epoch 12/30\n",
      "81/81 [==============================] - 23s 284ms/step - loss: 3.9574e-04 - accuracy: 0.0000e+00 - val_loss: 5.6073e-04 - val_accuracy: 0.0000e+00\n",
      "Epoch 13/30\n",
      "81/81 [==============================] - 21s 263ms/step - loss: 3.6230e-04 - accuracy: 0.0000e+00 - val_loss: 4.9464e-04 - val_accuracy: 0.0000e+00\n",
      "Epoch 14/30\n",
      "81/81 [==============================] - 23s 281ms/step - loss: 3.5980e-04 - accuracy: 0.0000e+00 - val_loss: 6.7368e-04 - val_accuracy: 0.0000e+00\n",
      "Epoch 15/30\n",
      "81/81 [==============================] - 26s 319ms/step - loss: 6.7797e-04 - accuracy: 0.0000e+00 - val_loss: 5.8890e-04 - val_accuracy: 0.0000e+00\n",
      "Epoch 16/30\n",
      "81/81 [==============================] - 28s 347ms/step - loss: 4.2548e-04 - accuracy: 0.0000e+00 - val_loss: 0.0013 - val_accuracy: 0.0000e+00\n",
      "Epoch 17/30\n",
      "81/81 [==============================] - 28s 347ms/step - loss: 6.9586e-04 - accuracy: 0.0000e+00 - val_loss: 0.0016 - val_accuracy: 0.0000e+00\n",
      "Epoch 18/30\n",
      "81/81 [==============================] - 29s 357ms/step - loss: 3.8507e-04 - accuracy: 0.0000e+00 - val_loss: 6.7817e-04 - val_accuracy: 0.0000e+00\n",
      "Epoch 19/30\n",
      "81/81 [==============================] - 29s 356ms/step - loss: 2.8025e-04 - accuracy: 0.0000e+00 - val_loss: 0.0030 - val_accuracy: 0.0000e+00\n",
      "Epoch 20/30\n",
      "81/81 [==============================] - 31s 388ms/step - loss: 3.9147e-04 - accuracy: 0.0000e+00 - val_loss: 6.5170e-04 - val_accuracy: 0.0000e+00\n",
      "Epoch 21/30\n",
      "81/81 [==============================] - 24s 293ms/step - loss: 3.4835e-04 - accuracy: 0.0000e+00 - val_loss: 3.1626e-04 - val_accuracy: 0.0000e+00\n",
      "Epoch 22/30\n",
      "81/81 [==============================] - 24s 296ms/step - loss: 3.0261e-04 - accuracy: 0.0000e+00 - val_loss: 7.2883e-04 - val_accuracy: 0.0000e+00\n",
      "Epoch 23/30\n",
      "81/81 [==============================] - 21s 260ms/step - loss: 3.0708e-04 - accuracy: 0.0000e+00 - val_loss: 2.8811e-04 - val_accuracy: 0.0000e+00\n",
      "Epoch 24/30\n",
      "81/81 [==============================] - 19s 240ms/step - loss: 2.9769e-04 - accuracy: 0.0000e+00 - val_loss: 0.0014 - val_accuracy: 0.0000e+00\n",
      "Epoch 25/30\n",
      "81/81 [==============================] - 19s 235ms/step - loss: 3.0395e-04 - accuracy: 0.0000e+00 - val_loss: 2.7904e-04 - val_accuracy: 0.0000e+00\n",
      "Epoch 26/30\n",
      "81/81 [==============================] - 19s 234ms/step - loss: 2.4343e-04 - accuracy: 0.0000e+00 - val_loss: 0.0028 - val_accuracy: 0.0000e+00\n",
      "Epoch 27/30\n",
      "81/81 [==============================] - 19s 238ms/step - loss: 6.8061e-04 - accuracy: 0.0000e+00 - val_loss: 0.0014 - val_accuracy: 0.0000e+00\n",
      "Epoch 28/30\n",
      "81/81 [==============================] - 25s 311ms/step - loss: 2.3226e-04 - accuracy: 0.0000e+00 - val_loss: 3.7786e-04 - val_accuracy: 0.0000e+00\n",
      "Epoch 29/30\n",
      "81/81 [==============================] - 27s 336ms/step - loss: 2.6666e-04 - accuracy: 0.0000e+00 - val_loss: 5.2851e-04 - val_accuracy: 0.0000e+00\n",
      "Epoch 30/30\n",
      "81/81 [==============================] - 27s 336ms/step - loss: 2.6346e-04 - accuracy: 0.0000e+00 - val_loss: 8.9047e-04 - val_accuracy: 0.0000e+00\n"
     ]
    },
    {
     "data": {
      "text/plain": [
       "<keras.callbacks.History at 0x1febd120460>"
      ]
     },
     "execution_count": 17,
     "metadata": {},
     "output_type": "execute_result"
    }
   ],
   "source": [
    "# 一個batch有128個instance，總共跑50個迭代\n",
    "model.fit( X_train, y_train, batch_size=20, epochs=30, validation_split=0.1, verbose=1)"
   ]
  },
  {
   "cell_type": "markdown",
   "metadata": {},
   "source": [
    "# LSTM 模型預測股價及還原數值"
   ]
  },
  {
   "cell_type": "code",
   "execution_count": 18,
   "metadata": {},
   "outputs": [],
   "source": [
    "def denormalize(df, norm_value):\n",
    "    original_value = df['close'].values.reshape(-1,1)\n",
    "    norm_value = norm_value.reshape(-1,1)\n",
    "    \n",
    "    min_max_scaler = preprocessing.MinMaxScaler()\n",
    "    min_max_scaler.fit_transform(original_value)\n",
    "    denorm_value = min_max_scaler.inverse_transform(norm_value)\n",
    "    \n",
    "    return denorm_value\n",
    "\n",
    "# 用訓練好的 LSTM 模型對測試資料集進行預測\n",
    "pred = model.predict(X_test)\n",
    "\n",
    "# 將預測值與正確答案還原回原來的區間值\n",
    "denorm_pred = denormalize(foxconndf, pred)\n",
    "denorm_ytest = denormalize(foxconndf, y_test)"
   ]
  },
  {
   "cell_type": "markdown",
   "metadata": {},
   "source": [
    "# LSTM 預測股價結果\n",
    "藍線是正確答案、紅線是預測股價"
   ]
  },
  {
   "cell_type": "code",
   "execution_count": 19,
   "metadata": {},
   "outputs": [
    {
     "data": {
      "image/png": "[encoded data removed]",
      "text/plain": [
       "<Figure size 432x288 with 1 Axes>"
      ]
     },
     "metadata": {
      "needs_background": "light"
     },
     "output_type": "display_data"
    }
   ],
   "source": [
    "import matplotlib.pyplot as plt\n",
    "%matplotlib inline  \n",
    "\n",
    "plt.plot(denorm_pred,color='red', label='Prediction')\n",
    "plt.plot(denorm_ytest,color='blue', label='Answer')\n",
    "plt.legend(loc='best')\n",
    "plt.show()"
   ]
  },
  {
   "cell_type": "markdown",
   "metadata": {},
   "source": [
    "# 調整"
   ]
  },
  {
   "cell_type": "markdown",
   "metadata": {},
   "source": [
    "試著來調整一些設定：  \n",
    "\n",
    "時間框架長度的調整  \n",
    "Keras 模型裡全連結層的 activation 與 optimizaer 的調整  \n",
    "Keras 模型用不同的神經網路（種類、順序、數量）來組合  \n",
    "batch_size 的調整、epochs 的調整  \n",
    "…  "
   ]
  },
  {
   "cell_type": "code",
   "execution_count": null,
   "metadata": {},
   "outputs": [],
   "source": []
  }
 ],
 "metadata": {
  "kernelspec": {
   "display_name": "Python 3",
   "language": "python",
   "name": "python3"
  },
  "language_info": {
   "codemirror_mode": {
    "name": "ipython",
    "version": 3
   },
   "file_extension": ".py",
   "mimetype": "text/x-python",
   "name": "python",
   "nbconvert_exporter": "python",
   "pygments_lexer": "ipython3",
   "version": "3.8.6rc1"
  }
 },
 "nbformat": 4,
 "nbformat_minor": 4
}
